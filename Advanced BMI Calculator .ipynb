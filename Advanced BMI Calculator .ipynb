{
 "cells": [
  {
   "cell_type": "markdown",
   "id": "f2240566",
   "metadata": {},
   "source": [
    "#  Features :\n",
    "\n",
    "GUI interface for BMI input\n",
    "\n",
    "Category display (Underweight, Normal, etc.)\n",
    "\n",
    "History stored in memory\n",
    "\n",
    "BMI trend graph with matplotlib"
   ]
  },
  {
   "cell_type": "code",
   "execution_count": 8,
   "id": "0f60df48",
   "metadata": {},
   "outputs": [],
   "source": [
    "import tkinter as tk\n",
    "from tkinter import messagebox\n",
    "import pandas as pd\n",
    "import matplotlib.pyplot as plt\n",
    "import warnings\n",
    "warnings.filterwarnings('ignore')"
   ]
  },
  {
   "cell_type": "markdown",
   "id": "ac753131",
   "metadata": {},
   "source": [
    "# BMI Calculation Logic"
   ]
  },
  {
   "cell_type": "code",
   "execution_count": 11,
   "id": "a0683d67",
   "metadata": {},
   "outputs": [],
   "source": [
    "bmi_data = []\n",
    "\n",
    "def calculate_bmi():\n",
    "    try:\n",
    "        weight = float(entry_weight.get())\n",
    "        height = float(entry_height.get())\n",
    "        if height <= 0 or weight <= 0:\n",
    "            raise ValueError(\"Height and weight must be positive.\")\n",
    "        bmi = round(weight / (height ** 2), 2)\n",
    "\n",
    "        if bmi < 18.5:\n",
    "            category = \"Underweight\"\n",
    "        elif bmi < 25:\n",
    "            category = \"Normal\"\n",
    "        elif bmi < 30:\n",
    "            category = \"Overweight\"\n",
    "        else:\n",
    "            category = \"Obese\"\n",
    "\n",
    "        result_label.config(text=f\"BMI: {bmi} ({category})\")\n",
    "        bmi_data.append({\n",
    "            \"Weight (kg)\": weight,\n",
    "            \"Height (m)\": height,\n",
    "            \"BMI\": bmi,\n",
    "            \"Category\": category\n",
    "        })\n",
    "\n",
    "    except ValueError:\n",
    "        messagebox.showerror(\"Invalid input\", \"Please enter valid numbers for weight and height.\")\n"
   ]
  },
  {
   "cell_type": "markdown",
   "id": "fe60dfbc",
   "metadata": {},
   "source": [
    "# Show BMI Trend Graph"
   ]
  },
  {
   "cell_type": "code",
   "execution_count": 12,
   "id": "fb57ce12",
   "metadata": {},
   "outputs": [],
   "source": [
    "def show_graph():\n",
    "    if bmi_data:\n",
    "        df = pd.DataFrame(bmi_data)\n",
    "        df[\"BMI\"].plot(kind=\"line\", title=\"BMI Trend\", marker='o')\n",
    "        plt.xlabel(\"Entry Number\")\n",
    "        plt.ylabel(\"BMI\")\n",
    "        plt.grid(True)\n",
    "        plt.show()\n",
    "    else:\n",
    "        messagebox.showinfo(\"No Data\", \"No BMI data to plot.\")\n"
   ]
  },
  {
   "cell_type": "markdown",
   "id": "66493445",
   "metadata": {},
   "source": [
    "# Build the GUI using Tkinter"
   ]
  },
  {
   "cell_type": "code",
   "execution_count": null,
   "id": "e3bf124f",
   "metadata": {},
   "outputs": [
    {
     "data": {
      "image/png": "[encoded data removed]",
      "text/plain": [
       "<Figure size 640x480 with 1 Axes>"
      ]
     },
     "metadata": {},
     "output_type": "display_data"
    }
   ],
   "source": [
    "app = tk.Tk()\n",
    "app.title(\"BMI Calculator\")\n",
    "app.geometry(\"300x300\")\n",
    "\n",
    "tk.Label(app, text=\"Weight (kg):\").pack()\n",
    "entry_weight = tk.Entry(app)\n",
    "entry_weight.pack()\n",
    "\n",
    "tk.Label(app, text=\"Height (m):\").pack()\n",
    "entry_height = tk.Entry(app)\n",
    "entry_height.pack()\n",
    "\n",
    "tk.Button(app, text=\"Calculate BMI\", command=calculate_bmi).pack(pady=5)\n",
    "\n",
    "result_label = tk.Label(app, text=\"\")\n",
    "result_label.pack()\n",
    "\n",
    "tk.Button(app, text=\"Show Graph\", command=show_graph).pack(pady=5)\n",
    "\n",
    "app.mainloop()\n"
   ]
  },
  {
   "cell_type": "code",
   "execution_count": null,
   "id": "f32c28ea",
   "metadata": {},
   "outputs": [],
   "source": []
  },
  {
   "cell_type": "code",
   "execution_count": null,
   "id": "fc6d12a2",
   "metadata": {},
   "outputs": [],
   "source": []
  }
 ],
 "metadata": {
  "kernelspec": {
   "display_name": "Python 3 (ipykernel)",
   "language": "python",
   "name": "python3"
  },
  "language_info": {
   "codemirror_mode": {
    "name": "ipython",
    "version": 3
   },
   "file_extension": ".py",
   "mimetype": "text/x-python",
   "name": "python",
   "nbconvert_exporter": "python",
   "pygments_lexer": "ipython3",
   "version": "3.10.9"
  }
 },
 "nbformat": 4,
 "nbformat_minor": 5
}
